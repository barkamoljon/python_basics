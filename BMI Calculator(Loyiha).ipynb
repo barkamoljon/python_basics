{
 "cells": [
  {
   "cell_type": "markdown",
   "id": "d3f586f9",
   "metadata": {},
   "source": [
    "# BMI Calculator\n",
    "`BMI(body mass index) - TMI(tana massasi indeksi)`\n",
    "\n",
    "\n",
    "Yozuvchi: Barkamol Urinboev"
   ]
  },
  {
   "cell_type": "code",
   "execution_count": 19,
   "id": "da6aa372",
   "metadata": {},
   "outputs": [
    {
     "name": "stdout",
     "output_type": "stream",
     "text": [
      "Ismingizni kiriting:Barkamol\n",
      "Og`irligingizni kilogramda kiriting: 60\n",
      "Balandligingini  metrda kiriting: 1.73\n",
      "20.04744562130375\n",
      "Barkamol, sizning vazningiz mo`tadil!\n"
     ]
    }
   ],
   "source": [
    "ism = input(\"Ismingizni kiriting:\")\n",
    "\n",
    "ogirlik = int(input(\"Og`irligingizni kilogramda kiriting: \"))\n",
    "\n",
    "balandlik = float(input(\"Balandligingini  metrda kiriting: \"))\n",
    "\n",
    "TMI =  ogirlik / (balandlik * balandlik)\n",
    "\n",
    "print(TMI)\n",
    "\n",
    "if TMI>0:\n",
    "    if(TMI<18.5):\n",
    "        print(f\"{ism}, sizda vazn yetishmovchiligi!\")\n",
    "    elif(TMI<=24.9):\n",
    "        print(f\"{ism}, sizning vazningiz mo`tadil!\")\n",
    "    elif(TMI<29.9):\n",
    "        print(f\"{ism}, sizda ozroq ortiqcha vazn bor, Harakatni ko`paytiring!\")\n",
    "    elif(TMI<34.9):\n",
    "        print(f\"{ism}, sizda ko`p ortiqcha vazn bor, Shifokorga ko`rinishni unutmang!\")\n",
    "    else:\n",
    "        print(f\"{ism}, sizda o`ta ko`p ortiqcha vazn bor, Zudlik bilan shifokorga ko`rining!\")\n",
    "else: \n",
    "    print(\"To`g`ri qiymat kiriting\")"
   ]
  },
  {
   "cell_type": "code",
   "execution_count": null,
   "id": "f7c0a69b",
   "metadata": {},
   "outputs": [],
   "source": []
  }
 ],
 "metadata": {
  "kernelspec": {
   "display_name": "Python 3 (ipykernel)",
   "language": "python",
   "name": "python3"
  },
  "language_info": {
   "codemirror_mode": {
    "name": "ipython",
    "version": 3
   },
   "file_extension": ".py",
   "mimetype": "text/x-python",
   "name": "python",
   "nbconvert_exporter": "python",
   "pygments_lexer": "ipython3",
   "version": "3.9.7"
  }
 },
 "nbformat": 4,
 "nbformat_minor": 5
}
